{
 "cells": [
  {
   "cell_type": "markdown",
   "id": "1617b07a",
   "metadata": {},
   "source": [
    "#  Utility notebook to generate synthetic data"
   ]
  },
  {
   "cell_type": "code",
   "execution_count": 1,
   "id": "7faca6d6",
   "metadata": {},
   "outputs": [],
   "source": [
    "import os\n",
    "import pandas as pd\n",
    "import numpy as np\n",
    "from sklearn.datasets import make_regression"
   ]
  },
  {
   "cell_type": "code",
   "execution_count": 2,
   "id": "3d8359cc",
   "metadata": {},
   "outputs": [],
   "source": [
    "# create data directory\n",
    "os.makedirs('data', exist_ok=True)\n",
    "\n",
    "# generate synthtic data\n",
    "for rs in [42, 13, 23]:\n",
    "    # generate synthetic data\n",
    "    X, y = make_regression(n_samples=1000,n_features=10, effective_rank=4, n_informative=5, random_state=rs)\n",
    "    df = pd.DataFrame(np.hstack([X,y.reshape(-1,1)]))\n",
    "    df.columns = [f'x{i:02d}' for i in range(10)] + ['y']\n",
    "\n",
    "    # save data\n",
    "    file_path = os.path.join('./data', f'train_{rs:02d}.csv')\n",
    "    df.to_csv(file_path, index=False)"
   ]
  },
  {
   "cell_type": "code",
   "execution_count": null,
   "id": "81703f4e",
   "metadata": {},
   "outputs": [],
   "source": []
  }
 ],
 "metadata": {
  "kernelspec": {
   "display_name": "Python 3 (ipykernel)",
   "language": "python",
   "name": "python3"
  },
  "language_info": {
   "codemirror_mode": {
    "name": "ipython",
    "version": 3
   },
   "file_extension": ".py",
   "mimetype": "text/x-python",
   "name": "python",
   "nbconvert_exporter": "python",
   "pygments_lexer": "ipython3",
   "version": "3.7.11"
  }
 },
 "nbformat": 4,
 "nbformat_minor": 5
}
