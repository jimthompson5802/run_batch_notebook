{
 "cells": [
  {
   "cell_type": "code",
   "execution_count": 1,
   "id": "33aaa6e0",
   "metadata": {},
   "outputs": [],
   "source": [
    "import argparse\n",
    "import os\n",
    "\n",
    "import pandas as pd\n",
    "import matplotlib.pyplot as plt\n",
    "import seaborn as sns\n",
    "\n",
    "from sklearn.ensemble import RandomForestRegressor\n",
    "import joblib"
   ]
  },
  {
   "cell_type": "markdown",
   "id": "5559a19f",
   "metadata": {},
   "source": [
    "## Helper function"
   ]
  },
  {
   "cell_type": "code",
   "execution_count": 2,
   "id": "502f14b7",
   "metadata": {},
   "outputs": [],
   "source": [
    "# determine if code is running as notebook or as python batch program\n",
    "def is_interactive():\n",
    "    try:\n",
    "        # if config is available, the running in interactive notebook\n",
    "        cfg = get_ipython().config \n",
    "        return True\n",
    "    except NameError:\n",
    "        # config not available, not running in notebook\n",
    "        return False"
   ]
  },
  {
   "cell_type": "markdown",
   "id": "0769d928",
   "metadata": {},
   "source": [
    "## setup up parameters for notebook run"
   ]
  },
  {
   "cell_type": "code",
   "execution_count": 3,
   "id": "3c4abc3b",
   "metadata": {},
   "outputs": [],
   "source": [
    "if is_interactive():\n",
    "    # running in a notebook\n",
    "    training_fp = './data/train_13.csv'\n",
    "    model_dir = './models/model1'\n",
    "    plot_dir = ''\n",
    "else:\n",
    "    # running as python program\n",
    "    # specify expected arguments to by used by the program\n",
    "    parser = argparse.ArgumentParser(description='Trains model and saves model object')\n",
    "    parser.add_argument('--training_fp', help='file path to training data')\n",
    "    parser.add_argument('--model_dir', help='directory to save trained model')\n",
    "    parser.add_argument('--plot_dir', default='', help='directory to save plots')\n",
    "    args = parser.parse_args()\n",
    "    \n",
    "    # set arguments used in the notebook\n",
    "    training_fp = args.training_fp\n",
    "    model_dir = args.model_dir\n",
    "    plot_dir = args.plot_dir\n",
    "    "
   ]
  },
  {
   "cell_type": "markdown",
   "id": "ebe5028c",
   "metadata": {},
   "source": [
    "## Perform notebook processing to train model"
   ]
  },
  {
   "cell_type": "markdown",
   "id": "9f41ebf7",
   "metadata": {},
   "source": [
    "### Make model ready data\n",
    "Read in data set and perform data munging to create model ready data"
   ]
  },
  {
   "cell_type": "code",
   "execution_count": 4,
   "id": "957f58fa",
   "metadata": {},
   "outputs": [
    {
     "name": "stdout",
     "output_type": "stream",
     "text": [
      "Obtaining model data\n"
     ]
    }
   ],
   "source": [
    "print(\"Obtaining model data\")\n",
    "df = pd.read_csv(training_fp)"
   ]
  },
  {
   "cell_type": "code",
   "execution_count": 5,
   "id": "5c4a4c3a",
   "metadata": {},
   "outputs": [
    {
     "name": "stdout",
     "output_type": "stream",
     "text": [
      "shape of data set (1000, 11)\n",
      "\n",
      "sample of data\n",
      "         x00       x01       x02       x03       x04       x05       x06  \\\n",
      "0  0.004019 -0.001400 -0.009894  0.032902  0.013365 -0.014060 -0.004539   \n",
      "1 -0.006432  0.027767  0.015626  0.025694  0.019982  0.021194 -0.013323   \n",
      "2  0.002902  0.015847 -0.011028  0.020507  0.038765  0.011332 -0.005056   \n",
      "3  0.001566 -0.012338 -0.010508  0.006537  0.008449  0.005120 -0.007588   \n",
      "4  0.003575  0.026105 -0.003453 -0.003239  0.023052  0.007896  0.019098   \n",
      "\n",
      "        x07       x08       x09         y  \n",
      "0 -0.028494 -0.039837 -0.023418 -1.424894  \n",
      "1  0.026553  0.024754 -0.000216  2.804991  \n",
      "2 -0.028860 -0.011575 -0.004269  0.090778  \n",
      "3 -0.025413  0.014720  0.033210  0.429517  \n",
      "4  0.002949 -0.001726  0.010580  0.263429  \n"
     ]
    }
   ],
   "source": [
    "print(f'shape of data set {df.shape}')\n",
    "print('\\nsample of data\\n', df.head())"
   ]
  },
  {
   "cell_type": "markdown",
   "id": "b156d4bd",
   "metadata": {},
   "source": [
    "### Exploratory Data Analysis"
   ]
  },
  {
   "cell_type": "code",
   "execution_count": 6,
   "id": "6c4833ed",
   "metadata": {},
   "outputs": [
    {
     "name": "stdout",
     "output_type": "stream",
     "text": [
      "Performing Explortory Data Analysis\n"
     ]
    },
    {
     "data": {
      "image/png": "[encoded data removed]",
      "text/plain": [
       "<Figure size 720x576 with 2 Axes>"
      ]
     },
     "metadata": {
      "needs_background": "light"
     },
     "output_type": "display_data"
    }
   ],
   "source": [
    "print('Performing Explortory Data Analysis')\n",
    "# compute correlation matrix and show heatmap\n",
    "fig, ax = plt.subplots(figsize=(10,8))\n",
    "corr_matrix = df.corr()\n",
    "sns.heatmap(corr_matrix, cmap=\"YlOrRd\")\n",
    "ax.set_title('Correlation Heatmap')\n",
    "plt.show()\n",
    "\n",
    "# if plot_dir specified then save plot to storage\n",
    "if len(plot_dir) > 0:\n",
    "    os.makedirs(plot_dir, exist_ok=True)\n",
    "    plt.savefig(os.path.join(plot_dir, 'correlation_heatmap.png'))"
   ]
  },
  {
   "cell_type": "markdown",
   "id": "1789d67c",
   "metadata": {},
   "source": [
    "### Train Model"
   ]
  },
  {
   "cell_type": "code",
   "execution_count": 7,
   "id": "22cdcb0c",
   "metadata": {},
   "outputs": [
    {
     "name": "stdout",
     "output_type": "stream",
     "text": [
      "training model\n"
     ]
    },
    {
     "data": {
      "text/plain": [
       "['x00', 'x01', 'x02', 'x03', 'x04', 'x05', 'x06', 'x07', 'x08', 'x09']"
      ]
     },
     "execution_count": 7,
     "metadata": {},
     "output_type": "execute_result"
    }
   ],
   "source": [
    "print(\"training model\")\n",
    "# obtain explanatory variables\n",
    "explanatory_variables = [x for x in df.columns if x != 'y']\n",
    "explanatory_variables"
   ]
  },
  {
   "cell_type": "code",
   "execution_count": 8,
   "id": "132ece07",
   "metadata": {},
   "outputs": [
    {
     "data": {
      "text/plain": [
       "RandomForestRegressor()"
      ]
     },
     "execution_count": 8,
     "metadata": {},
     "output_type": "execute_result"
    }
   ],
   "source": [
    "# Train model\n",
    "rf = RandomForestRegressor()\n",
    "rf.fit(df[explanatory_variables], df['y'])"
   ]
  },
  {
   "cell_type": "markdown",
   "id": "c5c10223",
   "metadata": {},
   "source": [
    "### Save trained model object"
   ]
  },
  {
   "cell_type": "code",
   "execution_count": 9,
   "id": "822459ed",
   "metadata": {},
   "outputs": [
    {
     "name": "stdout",
     "output_type": "stream",
     "text": [
      "saving model object\n"
     ]
    },
    {
     "data": {
      "text/plain": [
       "['./models/model1/model.gz']"
      ]
     },
     "execution_count": 9,
     "metadata": {},
     "output_type": "execute_result"
    }
   ],
   "source": [
    "print(\"saving model object\")\n",
    "# create driecotry to save model\n",
    "os.makedirs(model_dir, exist_ok=True)\n",
    "\n",
    "# save model object\n",
    "joblib.dump(rf, os.path.join(model_dir, 'model.gz'))"
   ]
  },
  {
   "cell_type": "code",
   "execution_count": 10,
   "id": "c06e5ebe",
   "metadata": {},
   "outputs": [
    {
     "name": "stdout",
     "output_type": "stream",
     "text": [
      "completed model training for ./data/train_13.csv\n"
     ]
    }
   ],
   "source": [
    "print(f'completed model training for {training_fp}')"
   ]
  }
 ],
 "metadata": {
  "kernelspec": {
   "display_name": "Python 3 (ipykernel)",
   "language": "python",
   "name": "python3"
  },
  "language_info": {
   "codemirror_mode": {
    "name": "ipython",
    "version": 3
   },
   "file_extension": ".py",
   "mimetype": "text/x-python",
   "name": "python",
   "nbconvert_exporter": "python",
   "pygments_lexer": "ipython3",
   "version": "3.7.11"
  }
 },
 "nbformat": 4,
 "nbformat_minor": 5
}
